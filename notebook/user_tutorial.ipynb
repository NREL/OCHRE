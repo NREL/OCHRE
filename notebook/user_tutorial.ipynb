{
 "cells": [
  {
   "attachments": {},
   "cell_type": "markdown",
   "metadata": {},
   "source": [
    "## OCHRE User Tutorial\n",
    "\n",
    "* [Set up](#setup)\n",
    "  * [Installation](#install)\n",
    "  * [Getting input files](#inputs)\n",
    "* [Running a basic house model](#dwelling)\n",
    "* [Running a single equipment model](#equipment)\n",
    "* [Running with external controllers](#control)\n",
    "  * [Time-based HVAC setpoint control](#hvac-control)\n",
    "  * [Occupancy-based setpoint control](#occupancy-control)\n",
    "\n",
    "This tutorial can be downloaded online [here](https://github.com/NREL/OCHRE/blob/main/notebook/user_tutorial.ipynb).\n",
    "\n",
    "Note that this tutorial only covers use cases with a single building or single piece of equipment.\n",
    "OCHRE can be used to simulate a community or fleet of devices, both in parallel simulations or in co-simulation.\n"
   ]
  },
  {
   "cell_type": "markdown",
   "metadata": {},
   "source": [
    "### <a name=\"setup\"></a>Set up\n"
   ]
  },
  {
   "attachments": {},
   "cell_type": "markdown",
   "metadata": {},
   "source": [
    "#### <a name=\"install\"></a>Installation\n",
    "\n",
    "OCHRE can be installed using `pip` from the command line with:\n",
    "\n",
    "```\n",
    "pip install ochre-nrel\n",
    "```\n",
    "\n",
    "Alternatively, you can install a specific branch, for example:\n",
    "\n",
    "```\n",
    "pip install git+https://github.com/NREL/OCHRE@dev\n",
    "```\n",
    "\n",
    "Note that OCHRE requires Python version 3.9 or higher.\n"
   ]
  },
  {
   "attachments": {},
   "cell_type": "markdown",
   "metadata": {},
   "source": [
    "#### <a name=\"inputs\"></a>Getting input files\n",
    "\n",
    "OCHRE Dwelling models require 3 inputs files:\n",
    "* An HPXML file with building properties (xml)\n",
    "* An occupancy schedule file (csv)\n",
    "* A weather file (epw, or csv with NSRDB format)\n",
    "\n",
    "We recommend using [ResStock](https://www.nrel.gov/buildings/resstock.html) (version 3.0+) or\n",
    "[BEopt](https://www.nrel.gov/buildings/beopt.html) (version 3.0+) to create HPXML and occupancy schedule files.\n",
    "OCHRE has sample files [here](https://github.com/NREL/OCHRE/tree/main/defaults/Input%20Files).\n",
    "\n",
    "Weather files can be downloaded from [EnergyPlus](https://energyplus.net/weather), [NSRDB](https://nsrdb.nrel.gov/),\n",
    "[BEopt](https://www.nrel.gov/buildings/beopt.html), or from ResStock's [dataset](https://data.nrel.gov/submissions/156).\n"
   ]
  },
  {
   "attachments": {},
   "cell_type": "markdown",
   "metadata": {},
   "source": [
    "### <a name=\"dwelling\"></a>Running a basic house model\n",
    "\n",
    "For more details, see [bin/run_dwelling.py](https://github.com/NREL/OCHRE/blob/main/bin/run_dwelling.py)"
   ]
  },
  {
   "cell_type": "code",
   "execution_count": null,
   "metadata": {},
   "outputs": [],
   "source": [
    "import os\n",
    "import datetime as dt\n",
    "import pandas as pd\n",
    "\n",
    "from ochre import Dwelling\n",
    "from ochre.utils import default_input_path  # for using sample files\n",
    "\n",
    "simulation_name = 'Sample House'\n",
    "\n",
    "dwelling_args = {\n",
    "    # Timing parameters\n",
    "    'start_time': dt.datetime(2018, 1, 1, 0, 0),  # year, month, day, hour, minute\n",
    "    'time_res': dt.timedelta(minutes=10),         # time resolution of the simulation\n",
    "    'duration': dt.timedelta(days=3),             # duration of the simulation\n",
    "\n",
    "    # Input files\n",
    "    'hpxml_file': os.path.join(default_input_path, 'Input Files', 'sample_resstock_properties.xml'),\n",
    "    'schedule_input_file': os.path.join(default_input_path, 'Input Files', 'sample_resstock_schedule.csv'),\n",
    "    'weather_file': os.path.join(default_input_path, 'Weather', 'USA_CO_Denver.Intl.AP.725650_TMY3.epw'),\n",
    "\n",
    "    # Output parameters\n",
    "    'verbosity': 4,                         # verbosity of time series files (0-9)\n",
    "    'output_path': os.getcwd(),             # defaults to properties_file path\n",
    "\n",
    "    # Equipment parameters (see bin/run_dwelling.py for more options)\n",
    "    # 'Equipment': {\n",
    "    #     'PV': {\n",
    "    #         'capacity': 5,   # in kW\n",
    "    #         'tilt': 20,      # in degrees\n",
    "    #         'azimuth': 180,  # in degrees\n",
    "    #     }\n",
    "    # },\n",
    "}\n",
    "\n",
    "# Create Dwelling model\n",
    "dwelling = Dwelling(name=simulation_name, **dwelling_args)\n"
   ]
  },
  {
   "cell_type": "code",
   "execution_count": null,
   "metadata": {},
   "outputs": [],
   "source": [
    "# Run OCHRE simulation (returns DataFrames of timeseries results and a dictionary of metrics)\n",
    "df_baseline, metrics, hourly = dwelling.simulate()\n",
    "\n",
    "# Load results from previous run\n",
    "# output_path = dwelling_args.get('output_path', os.path.dirname(dwelling_args['properties_file']))\n",
    "# df, metrics, hourly = Analysis.load_ochre(output_path, simulation_name)\n",
    "\n",
    "df_baseline.head()\n"
   ]
  },
  {
   "cell_type": "code",
   "execution_count": null,
   "metadata": {},
   "outputs": [],
   "source": [
    "metrics"
   ]
  },
  {
   "cell_type": "code",
   "execution_count": null,
   "metadata": {},
   "outputs": [],
   "source": [
    "%matplotlib\n",
    "\n",
    "from ochre import CreateFigures\n",
    "\n",
    "# Plot results\n",
    "CreateFigures.plot_power_stack(df_baseline)\n",
    "CreateFigures.plot_daily_profile(df_baseline, 'Total Electric Power (kW)', plot_max=False, plot_min=False)"
   ]
  },
  {
   "attachments": {},
   "cell_type": "markdown",
   "metadata": {},
   "source": [
    "### <a name=\"equipment\"></a>Running a single equipment model\n",
    "\n",
    "For more details and examples, see\n",
    "[bin/run_equipment.py](https://github.com/NREL/OCHRE/blob/main/bin/run_equipment.py)"
   ]
  },
  {
   "cell_type": "code",
   "execution_count": null,
   "metadata": {},
   "outputs": [],
   "source": [
    "import numpy as np\n",
    "\n",
    "from ochre import ElectricResistanceWaterHeater\n",
    "\n",
    "water_heater_args = {\n",
    "    'start_time': dt.datetime(2018, 1, 1, 0, 0),  # year, month, day, hour, minute\n",
    "    'time_res': dt.timedelta(minutes=1),\n",
    "    'duration': dt.timedelta(days=10),\n",
    "    'verbosity': 6,  # verbosity of results (1-9)\n",
    "    'save_results': False,  # will not save results to a file\n",
    "    \n",
    "    # Equipment parameters\n",
    "    'Initial Temperature (C)': 49,\n",
    "    'Setpoint Temperature (C)': 51,\n",
    "    'Deadband Temperature (C)': 5,\n",
    "    'Capacity (W)': 4800,\n",
    "    'Efficiency (-)': 1,\n",
    "    'Tank Volume (L)': 250,\n",
    "    'Tank Height (m)': 1.22,\n",
    "    'UA (W/K)': 2.17,\n",
    "\n",
    "    'schedule': None,  # defined below\n",
    "}\n",
    "\n",
    "# create example water draw schedule and add to equipment args\n",
    "times = pd.date_range(water_heater_args['start_time'], water_heater_args['start_time'] + water_heater_args['duration'], \n",
    "                      freq=water_heater_args['time_res'])\n",
    "water_draw_magnitude = 12  # L/min\n",
    "hot_water_draws = np.random.choice([0, water_draw_magnitude], p=[0.99, 0.01], size=len(times))\n",
    "water_heater_args['schedule'] = pd.DataFrame({\n",
    "    'Showers (L/min)': hot_water_draws,\n",
    "    'Zone Temperature (C)': 20,\n",
    "    'Mains Temperature (C)': 7,\n",
    "}, index=times)\n",
    "\n",
    "# Initialize equipment\n",
    "water_heater = ElectricResistanceWaterHeater(**water_heater_args)"
   ]
  },
  {
   "cell_type": "code",
   "execution_count": null,
   "metadata": {},
   "outputs": [],
   "source": [
    "# Run simulation\n",
    "df = water_heater.simulate()\n",
    "\n",
    "# Show results\n",
    "df.head()\n"
   ]
  },
  {
   "cell_type": "code",
   "execution_count": null,
   "metadata": {},
   "outputs": [],
   "source": [
    "fig = CreateFigures.plot_daily_profile(df, 'Water Heating Electric Power (kW)', plot_max=False, plot_min=False)\n",
    "# fig, _ = CreateFigures.plot_time_series_detailed((df['Hot Water Outlet Temperature (C)'],))\n",
    "fig"
   ]
  },
  {
   "attachments": {},
   "cell_type": "markdown",
   "metadata": {},
   "source": [
    "### <a name=\"control\"></a>Running with external controllers\n",
    "\n",
    "For more details and examples, see\n",
    "[bin/run_external_control.py](https://github.com/NREL/OCHRE/blob/main/bin/run_external_control.py)"
   ]
  },
  {
   "attachments": {},
   "cell_type": "markdown",
   "metadata": {},
   "source": [
    "#### <a name=\"hvac-control\"></a>Time-based HVAC setpoint control\n",
    "\n",
    "This control will reduce the heating setpoint by 1C from 5-9PM each day.\n",
    "\n",
    "We use the same house model as above."
   ]
  },
  {
   "cell_type": "code",
   "execution_count": null,
   "metadata": {},
   "outputs": [],
   "source": [
    "# Option 1: Adjust setpoints in the schedule, then run the simulation\n",
    "\n",
    "# Create Dwelling model (same as above)\n",
    "dwelling = Dwelling(name=simulation_name, **dwelling_args)\n",
    "\n",
    "# Get HVAC heater setpoints\n",
    "heater = dwelling.get_equipment_by_end_use('HVAC Heating')\n",
    "setpoints = heater.schedule['HVAC Heating Setpoint (C)']\n",
    "\n",
    "# Reduce heating setpoint by 1C from 5-9PM\n",
    "peak_times = setpoints.between_time(dt.time(17, 0, 0), dt.time(21, 0, 0), inclusive='left').index\n",
    "setpoints.loc[peak_times] -= 1\n",
    "heater.reset_time()  # resets the schedule\n",
    "\n",
    "# Run simulation\n",
    "df, hourly, metrics = dwelling.simulate()\n",
    "\n",
    "# Plot HVAC power and indoor temperature for baseline and control cases\n",
    "data = {'Baseline': df_baseline,\n",
    "        'Control': df}\n",
    "plot_info = [('HVAC Heating Electric Power (kW)', 'Heating Power', 'r'),\n",
    "             ('Temperature - Indoor (C)', 'Indoor Temperature', 'k', False)]\n",
    "fig, (ax1, ax2) = CreateFigures.multi_comparison_plot(data, plot_info)\n",
    "ax1.set_ylabel('Power (kW)')\n",
    "ax2.set_ylabel('Temperature (C)')\n",
    "fig\n"
   ]
  },
  {
   "cell_type": "code",
   "execution_count": null,
   "metadata": {},
   "outputs": [],
   "source": [
    "# Option 2: Adjust setpoints within the simulation\n",
    "\n",
    "# Create Dwelling model\n",
    "dwelling = Dwelling(name=simulation_name, **dwelling_args)\n",
    "\n",
    "# Get HVAC heater and initial setpoint\n",
    "heater = dwelling.get_equipment_by_end_use('HVAC Heating')\n",
    "\n",
    "# Run OCHRE simulation in for loop\n",
    "for t in dwelling.sim_times:\n",
    "    assert dwelling.current_time == t\n",
    "\n",
    "    # Get HVAC heating setpoint, reduce by 1C from 5-9PM\n",
    "    setpoint = heater.schedule.loc[t, 'HVAC Heating Setpoint (C)']  # Original setpoint for current time\n",
    "    if 17 <= t.hour <= 21:\n",
    "        setpoint -= 1\n",
    "\n",
    "    # Set the external control signal\n",
    "    control_signal = {\n",
    "        'HVAC Heating': {\n",
    "            'Setpoint': setpoint,\n",
    "        }\n",
    "    }\n",
    "\n",
    "    # Send the control signal to OCHRE and run for 1 time step\n",
    "    house_status = dwelling.update(control_signal=control_signal)\n",
    "\n",
    "# End the simulation\n",
    "df, hourly, metrics = dwelling.finalize()\n",
    "\n",
    "# Plot HVAC power and indoor temperature for baseline and control cases\n",
    "data = {'Baseline': df_baseline,\n",
    "        'Control': df}\n",
    "plot_info = [('HVAC Heating Electric Power (kW)', 'Heating Power', 'r'),\n",
    "             ('Temperature - Indoor (C)', 'Indoor Temperature', 'k', False)]\n",
    "fig, (ax1, ax2) = CreateFigures.multi_comparison_plot(data, plot_info)\n",
    "ax1.set_ylabel('Power (kW)')\n",
    "ax2.set_ylabel('Temperature (C)')\n",
    "fig\n"
   ]
  },
  {
   "attachments": {},
   "cell_type": "markdown",
   "metadata": {},
   "source": [
    "#### <a name=\"occupancy-control\"></a>Occupancy-based setpoint control\n",
    "\n",
    "This control will reduce the heating setpoint by 1C if the house is unoccupied.\n",
    "\n",
    "We use the same house model as above."
   ]
  },
  {
   "cell_type": "code",
   "execution_count": null,
   "metadata": {},
   "outputs": [],
   "source": [
    "# Create Dwelling model\n",
    "dwelling = Dwelling(name=simulation_name, **dwelling_args)\n",
    "\n",
    "# Get HVAC heater and initial setpoint\n",
    "heater = dwelling.get_equipment_by_end_use('HVAC Heating')\n",
    "setpoint = heater.schedule.loc[dwelling.start_time, 'HVAC Heating Setpoint (C)']\n",
    "occupied = True\n",
    "\n",
    "# Run OCHRE simulation in for loop\n",
    "for t in dwelling.sim_times:\n",
    "    assert dwelling.current_time == t\n",
    "\n",
    "    # Get HVAC heating setpoint and reduce by 1C if the house is unoccupied\n",
    "    setpoint = heater.schedule.loc[t, 'HVAC Heating Setpoint (C)']  # Original setpoint for current time\n",
    "    if not occupied:\n",
    "        setpoint -= 1\n",
    "\n",
    "    # Set the external control signal\n",
    "    control_signal = {\n",
    "        'HVAC Heating': {\n",
    "            'Setpoint': setpoint,\n",
    "        }\n",
    "    }\n",
    "\n",
    "    # Send the control signal to OCHRE and run for 1 time step\n",
    "    house_status = dwelling.update(control_signal=control_signal)\n",
    "\n",
    "    # Update occupancy status\n",
    "    occupied = house_status['Occupancy (Persons)'] > 0\n",
    "\n",
    "# End the simulation\n",
    "df, hourly, metrics = dwelling.finalize()\n",
    "\n",
    "# Plot HVAC power and indoor temperature for baseline and control cases\n",
    "data = {'Baseline': df_baseline,\n",
    "        'Control': df}\n",
    "plot_info = [('HVAC Heating Electric Power (kW)', 'Heating Power', 'r'),\n",
    "             ('Temperature - Indoor (C)', 'Indoor Temperature', 'k', False),\n",
    "             ('Occupancy (Persons)', 'Occupancy', 'b')]\n",
    "fig, (ax1, ax2) = CreateFigures.multi_comparison_plot(data, plot_info)\n",
    "ax1.set_ylabel('Power (kW) and Occupancy (Persons)')\n",
    "ax2.set_ylabel('Temperature (C)')\n",
    "\n",
    "fig\n"
   ]
  },
  {
   "cell_type": "code",
   "execution_count": null,
   "metadata": {},
   "outputs": [],
   "source": []
  }
 ],
 "metadata": {
  "kernelspec": {
   "display_name": "ochre_dev",
   "language": "python",
   "name": "python3"
  },
  "language_info": {
   "codemirror_mode": {
    "name": "ipython",
    "version": 3
   },
   "file_extension": ".py",
   "mimetype": "text/x-python",
   "name": "python",
   "nbconvert_exporter": "python",
   "pygments_lexer": "ipython3",
   "version": "3.10.10"
  },
  "orig_nbformat": 4,
  "vscode": {
   "interpreter": {
    "hash": "38511c319a6abad618a0f5b1e1754d185267d9d16f724d65987013cf31e529bb"
   }
  }
 },
 "nbformat": 4,
 "nbformat_minor": 2
}
