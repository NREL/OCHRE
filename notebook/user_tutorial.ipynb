{
 "cells": [
  {
   "attachments": {},
   "cell_type": "markdown",
   "metadata": {},
   "source": [
    "# OCHRE User Tutorial\n",
    "\n",
    "* [Set up](#setup)\n",
    "  * [Installation](#install)\n",
    "  * [Getting input files](#inputs)\n",
    "* [Running a basic house](#dwelling)\n",
    "* [Running a single piece of equipment](#equipment)\n",
    "  * [Electric Vehicle](#ev)\n",
    "  * [Water Heater](#water_heater)\n",
    "* [Running a fleet](#fleet)\n",
    "  * [EV Fleet](#ev-fleet)\n",
    "  * [Multiple houses](#house-fleet)\n",
    "* [Running with external controllers](#control)\n",
    "  * [HVAC setpoint control](#hvac-control)\n",
    "  * [EV managed charging](#ev-control)\n",
    "  * [HPWH CTA-2045 control](#wh-control)\n",
    "* [Links to other examples](#links)\n",
    "\n",
    "This tutorial covers the basics of how to install and run OCHRE, and provides\n",
    "some examples for various use cases. It can be downloaded online\n",
    "[here](https://github.com/NREL/OCHRE/blob/main/notebook/user_tutorial.ipynb).\n",
    "\n",
    "The full documentation for OCHRE can be found [here](https://ochre-nrel.readthedocs.io/)\n"
   ]
  },
  {
   "cell_type": "markdown",
   "metadata": {},
   "source": [
    "## <a name=\"setup\"></a>Set up\n"
   ]
  },
  {
   "attachments": {},
   "cell_type": "markdown",
   "metadata": {},
   "source": [
    "### <a name=\"install\"></a>Installation\n",
    "\n",
    "OCHRE can be installed using `pip` from the command line with:\n",
    "\n",
    "```\n",
    "pip install ochre-nrel\n",
    "```\n",
    "\n",
    "Alternatively, you can install a specific branch, for example:\n",
    "\n",
    "```\n",
    "pip install git+https://github.com/NREL/OCHRE@dev\n",
    "```\n",
    "\n",
    "Note that OCHRE requires Python version >=3.9 and <3.12."
   ]
  },
  {
   "attachments": {},
   "cell_type": "markdown",
   "metadata": {},
   "source": [
    "### <a name=\"inputs\"></a>Getting input files\n",
    "\n",
    "OCHRE Dwelling models often require 3 inputs files:\n",
    "* An HPXML file with building properties (.xml)\n",
    "* An occupancy schedule file (.csv)\n",
    "* A weather file (.epw, or .csv with NSRDB format)\n",
    "\n",
    "We recommend using [ResStock](https://www.nrel.gov/buildings/resstock.html) (version 3.0+) or\n",
    "[BEopt](https://www.nrel.gov/buildings/beopt.html) (version 3.0+) to create HPXML and occupancy schedule files.\n",
    "OCHRE includes some [sample files](https://github.com/NREL/OCHRE/tree/main/ochre/defaults/Input%20Files)\n",
    "and some code to [download ResStock files](https://github.com/NREL/OCHRE/tree/main/bin/run_multiple.py#L72).\n",
    "\n",
    "Weather files can be downloaded from [EnergyPlus](https://energyplus.net/weather), [NSRDB](https://nsrdb.nrel.gov/),\n",
    "[BEopt](https://www.nrel.gov/buildings/beopt.html), or from ResStock's [dataset](https://data.nrel.gov/submissions/156).\n",
    "\n",
    "See the official documentation for more information on [Generating Input Files](https://ochre-nrel.readthedocs.io/en/latest/InputsAndArguments.html#generating-input-files)."
   ]
  },
  {
   "attachments": {},
   "cell_type": "markdown",
   "metadata": {},
   "source": [
    "## <a name=\"dwelling\"></a>Running a basic house\n",
    "\n",
    "For more details, see [bin/run_dwelling.py](https://github.com/NREL/OCHRE/tree/main/bin/run_dwelling.py)"
   ]
  },
  {
   "cell_type": "code",
   "execution_count": null,
   "metadata": {},
   "outputs": [],
   "source": [
    "import os\n",
    "import datetime as dt\n",
    "import pandas as pd\n",
    "\n",
    "from ochre import Dwelling\n",
    "from ochre.utils import default_input_path  # for using sample files\n",
    "\n",
    "dwelling_args = {\n",
    "    \"name\": \"MyHouse\",  # simulation name\n",
    "    \n",
    "    # Timing parameters\n",
    "    \"start_time\": dt.datetime(2018, 1, 1, 0, 0),  # year, month, day, hour, minute\n",
    "    \"time_res\": dt.timedelta(minutes=10),         # time resolution of the simulation\n",
    "    \"duration\": dt.timedelta(days=1),             # duration of the simulation\n",
    "\n",
    "    # Input files\n",
    "    \"hpxml_file\": os.path.join(default_input_path, \"Input Files\", \"bldg0112631-up11.xml\"),\n",
    "    \"hpxml_schedule_file\": os.path.join(\n",
    "        default_input_path, \"Input Files\", \"bldg0112631_schedule.csv\"\n",
    "    ),\n",
    "    \"weather_file\": os.path.join(\n",
    "        default_input_path, \"Weather\", \"USA_CO_Denver.Intl.AP.725650_TMY3.epw\"\n",
    "    ),\n",
    "    \n",
    "    # Output parameters\n",
    "    \"verbosity\": 4,              # verbosity of time series files (0-9)\n",
    "    \"output_path\": os.getcwd(),  # defaults to properties_file path\n",
    "    \n",
    "    # Equipment parameters (see bin/run_dwelling.py for more options)\n",
    "    # \"Equipment\": {\n",
    "    #     \"PV\": {\n",
    "    #         \"capacity\": 5,   # in kW\n",
    "    #         \"tilt\": 20,      # in degrees\n",
    "    #         \"azimuth\": 0,    # in degrees, south=0\n",
    "    #     }\n",
    "    # },\n",
    "}\n",
    "\n",
    "# Create Dwelling model\n",
    "dwelling = Dwelling(**dwelling_args)"
   ]
  },
  {
   "cell_type": "code",
   "execution_count": null,
   "metadata": {},
   "outputs": [],
   "source": [
    "# from ochre import Analysis\n",
    "\n",
    "# Run OCHRE simulation (returns DataFrames of timeseries results and a dictionary of metrics)\n",
    "df, metrics, hourly = dwelling.simulate()\n",
    "\n",
    "# Load results from previous run\n",
    "# df, metrics, hourly = Analysis.load_ochre(dwelling_args[\"output_path\"], dwelling_args[\"name\"])\n",
    "\n",
    "df.head()"
   ]
  },
  {
   "cell_type": "code",
   "execution_count": null,
   "metadata": {},
   "outputs": [],
   "source": [
    "metrics"
   ]
  },
  {
   "cell_type": "code",
   "execution_count": null,
   "metadata": {},
   "outputs": [],
   "source": [
    "%matplotlib\n",
    "\n",
    "from ochre import CreateFigures\n",
    "\n",
    "# Plot results\n",
    "fig = CreateFigures.plot_power_stack(df)"
   ]
  },
  {
   "cell_type": "code",
   "execution_count": null,
   "metadata": {},
   "outputs": [],
   "source": [
    "fig = CreateFigures.plot_daily_profile(df, 'Total Electric Power (kW)', plot_max=False, plot_min=False)"
   ]
  },
  {
   "attachments": {},
   "cell_type": "markdown",
   "metadata": {},
   "source": [
    "## <a name=\"equipment\"></a>Running a single equipment model\n",
    "\n",
    "For more details and examples, see\n",
    "[bin/run_equipment.py](https://github.com/NREL/OCHRE/blob/main/bin/run_equipment.py)"
   ]
  },
  {
   "cell_type": "code",
   "execution_count": 6,
   "metadata": {},
   "outputs": [],
   "source": [
    "default_args = {\n",
    "    \"start_time\": dt.datetime(2018, 1, 1, 0, 0),  # year, month, day, hour, minute\n",
    "    \"time_res\": dt.timedelta(minutes=15),\n",
    "    \"duration\": dt.timedelta(days=10),\n",
    "    \"verbosity\": 3,\n",
    "    \"save_results\": False,  # if True, must specify output_path\n",
    "    # \"output_path\": os.getcwd(),\n",
    "}\n"
   ]
  },
  {
   "cell_type": "markdown",
   "metadata": {},
   "source": [
    "### <a name=\"ev\"></a>Running an electric vehicle\n"
   ]
  },
  {
   "cell_type": "code",
   "execution_count": null,
   "metadata": {},
   "outputs": [],
   "source": [
    "from ochre import ElectricVehicle\n",
    "\n",
    "equipment_args = {\n",
    "    # Equipment parameters\n",
    "    \"vehicle_type\": \"BEV\",\n",
    "    \"charging_level\": \"Level 1\",\n",
    "    \"range\": 200,\n",
    "    # Option to specify a file with EV charging events\n",
    "    # \"equipment_event_file\": os.path.join(default_input_path, \"EV\", \"PHEV_level_1.csv\"),\n",
    "    **default_args,\n",
    "}\n",
    "\n",
    "# Initialize equipment\n",
    "equipment = ElectricVehicle(**equipment_args)"
   ]
  },
  {
   "cell_type": "code",
   "execution_count": null,
   "metadata": {},
   "outputs": [],
   "source": [
    "# Simulate equipment\n",
    "df = equipment.simulate()\n",
    "\n",
    "df.head()\n"
   ]
  },
  {
   "cell_type": "code",
   "execution_count": null,
   "metadata": {},
   "outputs": [],
   "source": [
    "fig = CreateFigures.plot_daily_profile(df, \"EV Electric Power (kW)\", plot_max=False, plot_min=False)\n"
   ]
  },
  {
   "cell_type": "code",
   "execution_count": null,
   "metadata": {},
   "outputs": [],
   "source": [
    "fig = CreateFigures.plot_time_series_detailed((df[\"EV SOC (-)\"],))\n"
   ]
  },
  {
   "cell_type": "markdown",
   "metadata": {},
   "source": [
    "### <a name=\"water_heater\"></a>Running a water heater\n"
   ]
  },
  {
   "cell_type": "code",
   "execution_count": null,
   "metadata": {},
   "outputs": [],
   "source": [
    "import numpy as np\n",
    "from ochre import ElectricResistanceWaterHeater\n",
    "\n",
    "# Create water draw schedule\n",
    "time_res = dt.timedelta(minutes=1)\n",
    "times = pd.date_range(\n",
    "    default_args[\"start_time\"],\n",
    "    default_args[\"start_time\"] + default_args[\"duration\"],\n",
    "    freq=time_res,\n",
    "    inclusive=\"left\",\n",
    ")\n",
    "water_draw_magnitude = 12  # L/min\n",
    "withdraw_rate = np.random.choice([0, water_draw_magnitude], p=[0.99, 0.01], size=len(times))\n",
    "schedule = pd.DataFrame(\n",
    "    {\n",
    "        \"Water Heating (L/min)\": withdraw_rate,\n",
    "        \"Zone Temperature (C)\": 20,\n",
    "        \"Mains Temperature (C)\": 7,\n",
    "    },\n",
    "    index=times,\n",
    ")\n",
    "\n",
    "equipment_args = {\n",
    "    # Equipment parameters\n",
    "    \"Setpoint Temperature (C)\": 51,\n",
    "    \"Tank Volume (L)\": 250,\n",
    "    \"Tank Height (m)\": 1.22,\n",
    "    \"UA (W/K)\": 2.17,\n",
    "    \"schedule\": schedule,\n",
    "    **default_args,\n",
    "    \"time_res\": time_res,\n",
    "}\n",
    "\n",
    "# Initialize equipment\n",
    "wh = ElectricResistanceWaterHeater(**equipment_args)\n"
   ]
  },
  {
   "cell_type": "code",
   "execution_count": null,
   "metadata": {},
   "outputs": [],
   "source": [
    "# Run simulation\n",
    "df = wh.simulate()\n",
    "\n",
    "# Show results\n",
    "df.head()\n"
   ]
  },
  {
   "cell_type": "code",
   "execution_count": null,
   "metadata": {},
   "outputs": [],
   "source": [
    "fig = CreateFigures.plot_daily_profile(\n",
    "    df, \"Water Heating Electric Power (kW)\", plot_max=False, plot_min=False\n",
    ")"
   ]
  },
  {
   "cell_type": "code",
   "execution_count": null,
   "metadata": {},
   "outputs": [],
   "source": [
    "fig = CreateFigures.plot_time_series_detailed((df[\"Hot Water Outlet Temperature (C)\"],))"
   ]
  },
  {
   "cell_type": "markdown",
   "metadata": {},
   "source": [
    "## <a name=\"fleet\"></a>Running a fleet\n"
   ]
  },
  {
   "cell_type": "markdown",
   "metadata": {},
   "source": [
    "### <a name=\"ev-fleet\"></a>Running an EV fleet\n",
    "\n",
    "For more details and examples, see\n",
    "[bin/run_fleet.py](https://github.com/NREL/OCHRE/blob/main/bin/run_fleet.py)"
   ]
  },
  {
   "cell_type": "code",
   "execution_count": null,
   "metadata": {},
   "outputs": [],
   "source": [
    "def setup_ev(i) -> ElectricVehicle:\n",
    "    # randomly select vehicle type, range, and charging level\n",
    "    vehicle_type = np.random.choice([\"BEV\", \"PHEV\"])\n",
    "    charging_level = np.random.choice([\"Level 1\", \"Level 2\"])\n",
    "    if vehicle_type == \"BEV\":\n",
    "        range = round(np.random.uniform(100, 300))\n",
    "    else:\n",
    "        range = round(np.random.uniform(20, 70))\n",
    "\n",
    "    # Option to specify a file with EV charging events\n",
    "    # Defaults to older charging event data\n",
    "    # equipment_event_file = None\n",
    "    lvl = charging_level.lower().replace(\" \", \"_\")\n",
    "    equipment_event_file = os.path.join(default_input_path, \"EV\", f\"{vehicle_type}_{lvl}.csv\")\n",
    "\n",
    "    # Initialize equipment\n",
    "    return ElectricVehicle(\n",
    "        name=f\"EV_{i}\",\n",
    "        seed=i,  # used to randomize charging events. Not used for randomization above\n",
    "        vehicle_type=vehicle_type,\n",
    "        charging_level=charging_level,\n",
    "        range=range,\n",
    "        start_time=dt.datetime(2018, 1, 1, 0, 0),  # year, month, day, hour, minute\n",
    "        time_res=dt.timedelta(minutes=15),\n",
    "        duration=dt.timedelta(days=5),\n",
    "        verbosity=1,\n",
    "        save_results=False,  # if True, must specify output_path\n",
    "        # output_path=os.getcwd(),\n",
    "        equipment_event_file=equipment_event_file,\n",
    "    )\n",
    "\n",
    "# Create fleet\n",
    "n = 4\n",
    "fleet = [setup_ev(i + 1) for i in range(n)]\n"
   ]
  },
  {
   "cell_type": "code",
   "execution_count": null,
   "metadata": {},
   "outputs": [],
   "source": [
    "def run_ev(ev: ElectricVehicle):\n",
    "    df = ev.simulate()\n",
    "    out = df[\"EV Electric Power (kW)\"]\n",
    "    out.name = ev.name\n",
    "    return out\n",
    "\n",
    "# Simulate fleet\n",
    "results = []\n",
    "for ev in fleet:\n",
    "    results.append(run_ev(ev))\n",
    "\n",
    "# combine load profiles\n",
    "df = pd.concat(results, axis=1)\n",
    "\n",
    "df.head()\n"
   ]
  },
  {
   "cell_type": "code",
   "execution_count": null,
   "metadata": {},
   "outputs": [],
   "source": [
    "df.plot()\n"
   ]
  },
  {
   "cell_type": "markdown",
   "metadata": {},
   "source": [
    "### <a name=\"house-fleet\"></a>Running multiple houses\n",
    "\n",
    "For more details and examples, see\n",
    "[bin/run_multiple.py](https://github.com/NREL/OCHRE/blob/main/bin/run_multiple.py)"
   ]
  },
  {
   "cell_type": "code",
   "execution_count": null,
   "metadata": {},
   "outputs": [],
   "source": [
    "import shutil\n",
    "\n",
    "from ochre import Analysis\n",
    "\n",
    "# Note: see documentation for where to download other weather files\n",
    "# https://ochre-nrel.readthedocs.io/en/latest/InputsAndArguments.html#weather-file\n",
    "default_weather_file = os.path.join(default_input_path, \"Weather\", \"G0800310.epw\")\n",
    "\n",
    "main_path = os.getcwd()\n",
    "\n",
    "# Download ResStock files to current directory\n",
    "buildings = [\"bldg0112631\"]\n",
    "upgrades = [\"up00\", \"up11\"]\n",
    "input_paths = []\n",
    "for upgrade in upgrades:\n",
    "    for building in buildings:\n",
    "        input_path = os.path.join(main_path, building, upgrade)\n",
    "        os.makedirs(input_path, exist_ok=True)\n",
    "        Analysis.download_resstock_model(building, upgrade, input_path, overwrite=False)\n",
    "        shutil.copy(default_weather_file, input_path)\n",
    "        input_paths.append(input_path)\n"
   ]
  },
  {
   "cell_type": "code",
   "execution_count": null,
   "metadata": {},
   "outputs": [],
   "source": [
    "from ochre.cli import create_dwelling\n",
    "\n",
    "# Run Dwelling models sequentially\n",
    "for input_path in input_paths:\n",
    "    dwelling = create_dwelling(input_path, duration=7)\n",
    "    dwelling.simulate()\n"
   ]
  },
  {
   "attachments": {},
   "cell_type": "markdown",
   "metadata": {},
   "source": [
    "## <a name=\"control\"></a>Running with external controllers\n",
    "\n",
    "For more details and examples, see\n",
    "[bin/run_external_control.py](https://github.com/NREL/OCHRE/blob/main/bin/run_external_control.py)"
   ]
  },
  {
   "attachments": {},
   "cell_type": "markdown",
   "metadata": {},
   "source": [
    "### <a name=\"hvac-control\"></a>HVAC setpoint control\n",
    "\n",
    "This control will reduce the heating setpoint by 1C from 5-9PM each day.\n",
    "\n",
    "We use the same house model as above."
   ]
  },
  {
   "cell_type": "code",
   "execution_count": null,
   "metadata": {},
   "outputs": [],
   "source": [
    "# Initialize\n",
    "dwelling_args.update(\n",
    "    {\n",
    "        \"time_res\": dt.timedelta(minutes=1),  # time resolution of the simulation\n",
    "        \"duration\": dt.timedelta(days=1),  # duration of the simulation\n",
    "        \"verbosity\": 6,  # verbosity of time series files (0-9)\n",
    "    }\n",
    ")\n",
    "dwelling = Dwelling(**dwelling_args)\n",
    "\n",
    "# Get HVAC heater schedule\n",
    "heater = dwelling.get_equipment_by_end_use(\"HVAC Heating\")\n",
    "schedule = heater.schedule\n",
    "\n",
    "# Reduce heating setpoint by 1C from 5-9PM (setpoint is already in the schedule)\n",
    "peak_times = (schedule.index.hour >= 17) & (schedule.index.hour < 21)\n",
    "schedule.loc[peak_times, \"HVAC Heating Setpoint (C)\"] -= 1\n",
    "\n",
    "# Adjust the HVAC deadband temperature (not in the schedule yet)\n",
    "schedule[\"HVAC Heating Deadband (C)\"] = 1\n",
    "schedule.loc[peak_times, \"HVAC Heating Deadband (C)\"] = 2\n",
    "\n",
    "# Reset the schedule to implement the changes\n",
    "heater.reset_time()\n",
    "\n",
    "# Simulate\n",
    "df, _, _ = dwelling.simulate()\n"
   ]
  },
  {
   "cell_type": "code",
   "execution_count": null,
   "metadata": {},
   "outputs": [],
   "source": [
    "cols_to_plot = [\n",
    "    \"HVAC Heating Setpoint (C)\",\n",
    "    \"Temperature - Indoor (C)\",\n",
    "    \"Temperature - Outdoor (C)\",\n",
    "    \"Unmet HVAC Load (C)\",\n",
    "    \"HVAC Heating Electric Power (kW)\",\n",
    "]\n",
    "df.loc[:, cols_to_plot].plot()\n"
   ]
  },
  {
   "attachments": {},
   "cell_type": "markdown",
   "metadata": {},
   "source": [
    "### <a name=\"ev-control\"></a>EV managed charging\n"
   ]
  },
  {
   "cell_type": "code",
   "execution_count": null,
   "metadata": {},
   "outputs": [],
   "source": [
    "from ochre.Equipment.EV import EV_EFFICIENCY\n",
    "\n",
    "equipment_args = {\n",
    "    \"start_time\": dt.datetime(2018, 1, 1, 0, 0),  # year, month, day, hour, minute\n",
    "    \"time_res\": dt.timedelta(minutes=60),\n",
    "    \"duration\": dt.timedelta(days=20),\n",
    "    \"verbosity\": 3,\n",
    "    \"save_results\": False,  # if True, must specify output_path\n",
    "    # \"output_path\": os.getcwd(),\n",
    "    # Equipment parameters\n",
    "    \"vehicle_type\": \"BEV\",\n",
    "    \"charging_level\": \"Level 1\",\n",
    "    \"range\": 150,\n",
    "}\n",
    "\n",
    "# Initialize\n",
    "ev = ElectricVehicle(**equipment_args)\n",
    "\n",
    "# slow charge from start to end of parking\n",
    "for t in ev.sim_times:\n",
    "    remaining_hours = (ev.event_end - t).total_seconds() / 3600\n",
    "    remaining_kwh = (1 - ev.soc) * ev.capacity\n",
    "    if t >= ev.event_start and remaining_hours:\n",
    "        power = remaining_kwh / remaining_hours / EV_EFFICIENCY\n",
    "        ev.update({\"Max Power\": power})\n",
    "    else:\n",
    "        ev.update()\n",
    "\n",
    "df = ev.finalize()\n"
   ]
  },
  {
   "cell_type": "code",
   "execution_count": null,
   "metadata": {},
   "outputs": [],
   "source": [
    "CreateFigures.plot_daily_profile(df, \"EV Electric Power (kW)\", plot_max=False, plot_min=False)\n"
   ]
  },
  {
   "cell_type": "code",
   "execution_count": null,
   "metadata": {},
   "outputs": [],
   "source": [
    "df.loc[:, [\"EV Electric Power (kW)\", \"EV Unmet Load (kWh)\", \"EV SOC (-)\"]].plot()\n"
   ]
  },
  {
   "cell_type": "markdown",
   "metadata": {},
   "source": [
    "### <a name=\"wh-control\"></a>HPWH CTA-2045 control\n"
   ]
  },
  {
   "cell_type": "code",
   "execution_count": null,
   "metadata": {},
   "outputs": [],
   "source": [
    "from ochre import HeatPumpWaterHeater\n",
    "\n",
    "# Define equipment and simulation parameters\n",
    "setpoint_default = 51  # in C\n",
    "deadband_default = 5.56  # in C\n",
    "equipment_args = {\n",
    "    \"start_time\": dt.datetime(2018, 1, 1, 0, 0),  # year, month, day, hour, minute\n",
    "    \"time_res\": dt.timedelta(minutes=1),\n",
    "    \"duration\": dt.timedelta(days=1),\n",
    "    \"verbosity\": 6,  # required to get setpoint and deadband in results\n",
    "    \"save_results\": False,  # if True, must specify output_path\n",
    "    # \"output_path\": os.getcwd(),        # Equipment parameters\n",
    "    \"Setpoint Temperature (C)\": setpoint_default,\n",
    "    \"Tank Volume (L)\": 250,\n",
    "    \"Tank Height (m)\": 1.22,\n",
    "    \"UA (W/K)\": 2.17,\n",
    "    \"HPWH COP (-)\": 4.5,\n",
    "}\n",
    "\n",
    "# Create water draw schedule\n",
    "times = pd.date_range(\n",
    "    equipment_args[\"start_time\"],\n",
    "    equipment_args[\"start_time\"] + equipment_args[\"duration\"],\n",
    "    freq=equipment_args[\"time_res\"],\n",
    "    inclusive=\"left\",\n",
    ")\n",
    "water_draw_magnitude = 12  # L/min\n",
    "withdraw_rate = np.random.choice([0, water_draw_magnitude], p=[0.99, 0.01], size=len(times))\n",
    "schedule = pd.DataFrame(\n",
    "    {\n",
    "        \"Water Heating (L/min)\": withdraw_rate,\n",
    "        \"Water Heating Setpoint (C)\": setpoint_default,  # Setting so that it can reset\n",
    "        \"Water Heating Deadband (C)\": deadband_default,  # Setting so that it can reset\n",
    "        \"Zone Temperature (C)\": 20,\n",
    "        \"Zone Wet Bulb Temperature (C)\": 15,  # Required for HPWH\n",
    "        \"Mains Temperature (C)\": 7,\n",
    "    },\n",
    "    index=times,\n",
    ")\n",
    "\n",
    "# Initialize equipment\n",
    "hpwh = HeatPumpWaterHeater(schedule=schedule, **equipment_args)\n",
    "\n",
    "# Simulate\n",
    "control_signal = {}\n",
    "for t in hpwh.sim_times:\n",
    "    # Change setpoint based on hour of day\n",
    "    if t.hour in [7, 16]:\n",
    "        # CTA-2045 Basic Load Add command\n",
    "        control_signal = {\"Deadband\": deadband_default - 2.78}\n",
    "    elif t.hour in [8, 17]:\n",
    "        # CTA-2045 Load Shed command\n",
    "        control_signal = {\n",
    "            \"Setpoint\": setpoint_default - 5.56,\n",
    "            \"Deadband\": deadband_default - 2.78,\n",
    "        }\n",
    "    else:\n",
    "        control_signal = {}\n",
    "\n",
    "    # Run with controls\n",
    "    _ = hpwh.update(control_signal=control_signal)\n",
    "\n",
    "df = hpwh.finalize()\n",
    "\n",
    "df.head()\n"
   ]
  },
  {
   "cell_type": "code",
   "execution_count": null,
   "metadata": {},
   "outputs": [],
   "source": [
    "cols_to_plot = [\n",
    "    \"Hot Water Outlet Temperature (C)\",\n",
    "    \"Hot Water Average Temperature (C)\",\n",
    "    \"Water Heating Deadband Upper Limit (C)\",\n",
    "    \"Water Heating Deadband Lower Limit (C)\",\n",
    "    \"Water Heating Electric Power (kW)\",\n",
    "    \"Hot Water Unmet Demand (kW)\",\n",
    "    \"Hot Water Delivered (L/min)\",\n",
    "]\n",
    "df.loc[:, cols_to_plot].plot()\n"
   ]
  },
  {
   "cell_type": "markdown",
   "metadata": {},
   "source": [
    "## <a name=\"links\"></a>Links to other examples\n",
    "\n",
    "For more examples, see Python example scripts to:\n",
    "  * Run a [single dwelling](https://github.com/NREL/OCHRE/blob/main/bin/run_dwelling.py)\n",
    "  * Run a [single piece of equipment](https://github.com/NREL/OCHRE/blob/main/bin/run_equipment.py)\n",
    "  * Run a [fleet of equipment](https://github.com/NREL/OCHRE/blob/main/bin/run_fleet.py)\n",
    "  * Run [multiple dwellings](https://github.com/NREL/OCHRE/blob/main/bin/run_multiple.py)\n",
    "  * Run a [OCHRE with an external controller](https://github.com/NREL/OCHRE/blob/main/bin/run_external_control.py)\n",
    "  * Run a [OCHRE in co-simulation using HELICS](https://github.com/NREL/OCHRE/blob/main/bin/run_cosimulation.py)\n",
    "\n",
    "More information about usage can be found in the [OCHRE documentation](https://ochre-nrel.readthedocs.io/en/latest/)\n"
   ]
  },
  {
   "cell_type": "markdown",
   "metadata": {},
   "source": []
  }
 ],
 "metadata": {
  "kernelspec": {
   "display_name": ".venv",
   "language": "python",
   "name": "python3"
  },
  "language_info": {
   "codemirror_mode": {
    "name": "ipython",
    "version": 3
   },
   "file_extension": ".py",
   "mimetype": "text/x-python",
   "name": "python",
   "nbconvert_exporter": "python",
   "pygments_lexer": "ipython3",
   "version": "3.10.4"
  },
  "orig_nbformat": 4
 },
 "nbformat": 4,
 "nbformat_minor": 2
}
