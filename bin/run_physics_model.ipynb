{
 "cells": [
  {
   "cell_type": "code",
   "execution_count": null,
   "id": "80dc619c",
   "metadata": {},
   "outputs": [
    {
     "name": "stdout",
     "output_type": "stream",
     "text": [
      "\n",
      "The optimal value is 4.072623873503658e-11\n",
      "Ul = -0.0000\n",
      "Um = -0.0000\n",
      "Uu = -0.0000\n",
      "Kml = 0.0000\n",
      "Kum = 0.0000\n",
      "Vm = 1.0000\n",
      "Vu = 1.0000\n",
      "The norm of the residual is  6.381711270109027e-06\n"
     ]
    }
   ],
   "source": [
    "import numpy as np\n",
    "import cvxpy as cp\n",
    "import pandas as pd\n",
    "\n",
    "df = pd.read_csv(\"output_site_null_ewh.csv\")\n",
    "\n",
    "# Constants\n",
    "cp_val = 4181.3\n",
    "rho = 1000\n",
    "dt = 8 #what should this be? euler steps per timestep?\n",
    "T_a = 22\n",
    "V = 250 #(L)\n",
    "\n",
    "# Data\n",
    "T_u = df[\"T_WH3\"].values\n",
    "T_m = df[\"T_WH7\"].values\n",
    "T_l = df[\"T_WH10\"].values\n",
    "\n",
    "W_list = []\n",
    "z_list = []\n",
    "\n",
    "for j in range(len(T_u) - 1):  # because of j+1\n",
    "    Wj = np.zeros((3, 7))  # Each Wj is 3x7\n",
    "\n",
    "    # Row 1: Upper node (δtpu)\n",
    "    Wj[0, 2] = dt * (T_u[j] - T_a)       # U_u\n",
    "    Wj[0, 4] = dt * (T_u[j] - T_m[j])    # K_um\n",
    "    Wj[0, 6] = rho * cp_val * (T_u[j+1] - T_u[j])  # V_u\n",
    "\n",
    "    # Row 2: Middle node (δtpm)\n",
    "    Wj[1, 1] = dt * (T_m[j] - T_a)       # U_m\n",
    "    Wj[1, 3] = dt * (T_m[j] - T_l[j])    # K_ml\n",
    "    Wj[1, 4] = dt * (T_m[j] - T_u[j])    # K_um\n",
    "    Wj[1, 5] = rho * cp_val * (T_m[j+1] - T_m[j])  # V_m\n",
    "\n",
    "    # Row 3: Lower node\n",
    "    Wj[2, 0] = dt * (T_l[j] - T_a)       # U_l\n",
    "    Wj[2, 3] = dt * (T_l[j] - T_m[j])    # K_ml\n",
    "    Wj[2, 5] = -rho * cp_val * (T_l[j+1] - T_l[j])  # -V_m\n",
    "    Wj[2, 6] = -rho * cp_val * (T_l[j+1] - T_l[j])  # -V_u\n",
    "\n",
    "    # not sure what this should be\n",
    "    z_j = np.array([\n",
    "        # δtpu upper node\n",
    "        rho * cp_val * (T_u[j+1] - T_u[j]), #Power node 3 * time interval (60s?)\n",
    "\n",
    "        # δtpm middle node\n",
    "        rho * cp_val * (T_m[j+1] - T_m[j]),\n",
    "\n",
    "        # lower node energy change\n",
    "        V * rho * cp_val * (T_l[j] - T_l[j+1]) #node 16 cold water input\n",
    "    ])\n",
    "\n",
    "    W_list.append(Wj)\n",
    "    z_list.append(z_j)\n",
    "\n",
    "# Stack based on time dimension\n",
    "W = np.vstack(W_list)  # (3N x 7)\n",
    "z_full = np.hstack(z_list)  # (3N, )\n",
    "\n",
    "# CVXPY OLS problem\n",
    "theta = cp.Variable(7) #Ul, Um, Uu, Kml, Kum, Vm, Vu] U - Tank Insulation, K - thermal conductivity, V - node volume\n",
    "cost = cp.sum_squares(W @ theta - z_full) #z_j = W_j @ theta\n",
    "problem = cp.Problem(cp.Minimize(cost))\n",
    "problem.solve()\n",
    "\n",
    "# Output estimated parameters\n",
    "param_names = [\"Ul\", \"Um\", \"Uu\", \"Kml\", \"Kum\", \"Vm\", \"Vu\"]\n",
    "print(\"\\nThe optimal value is\", problem.value)\n",
    "for name, val in zip(param_names, theta.value):\n",
    "    print(f\"{name} = {val:.4f}\")\n",
    "\n",
    "print(\"The norm of the residual is \", cp.norm(W @ theta - z_full, p=2).value)\n"
   ]
  },
  {
   "cell_type": "code",
   "execution_count": 17,
   "id": "80955c27",
   "metadata": {},
   "outputs": [
    {
     "data": {
      "text/plain": [
       "array([[ 0.00000000e+00,  0.00000000e+00,  2.64034763e+01,\n",
       "         0.00000000e+00,  1.30645071e-06,  0.00000000e+00,\n",
       "        -1.83262222e+05],\n",
       "       [ 0.00000000e+00,  2.64034750e+01,  0.00000000e+00,\n",
       "         2.84034750e+01, -1.30645071e-06, -1.83304418e+05,\n",
       "         0.00000000e+00],\n",
       "       [-2.00000000e+00,  0.00000000e+00,  0.00000000e+00,\n",
       "        -2.84034750e+01,  0.00000000e+00, -0.00000000e+00,\n",
       "        -0.00000000e+00]])"
      ]
     },
     "execution_count": 17,
     "metadata": {},
     "output_type": "execute_result"
    }
   ],
   "source": [
    "W_list[0]"
   ]
  },
  {
   "cell_type": "code",
   "execution_count": 24,
   "id": "f8157f4b",
   "metadata": {},
   "outputs": [],
   "source": [
    "#Rearrange energy balance formulas to compute T[j + 1]\n",
    "\n",
    "def predict_temperatures(T_init, timesteps, theta, dt=1, cp=4181.3, rho=1000, T_a=22, V =250):\n",
    "    Ul, Um, Uu, Kml, Kum, Vm, Vu = theta\n",
    "    Vl = V - Vm  - Vu\n",
    "    Tu_pred, Tm_pred, Tl_pred = [], [], []\n",
    "\n",
    "    # Starting Temperatures [upper, middle, lower] nodes\n",
    "    Tu_pred.append(T_init[0])\n",
    "    Tm_pred.append(T_init[1])\n",
    "    Tl_pred.append(T_init[2])\n",
    "\n",
    "    for _ in range(timesteps):\n",
    "        Tu = Tu_pred[-1] #get last predictions\n",
    "        Tm = Tm_pred[-1]\n",
    "        Tl = Tl_pred[-1]\n",
    "\n",
    "        #rearrange energy balance equations\n",
    "        # Upper node\n",
    "        Tu_next = Tu + (1 / (rho * cp * Vu)) * (\n",
    "            Uu * dt * (T_a - Tu) +\n",
    "            Kum * dt * (Tm - Tu)\n",
    "        )\n",
    "\n",
    "        # Middle node\n",
    "        Tm_next = Tm + (1 / (rho * cp * Vm)) * (\n",
    "            Um * dt * (T_a - Tm) +\n",
    "            Kml * dt * (Tl - Tm) +\n",
    "            Kum * dt * (Tu - Tm)\n",
    "        )\n",
    "\n",
    "        # Lower node\n",
    "        Tl_next = Tl - (1 / (rho * cp * (V + Vm + Vu)))  *(\n",
    "            Ul * dt * (Tl - T_a) +\n",
    "            Kml * dt * (Tl - Tm)\n",
    "        )\n",
    "\n",
    "        Tu_pred.append(Tu_next)\n",
    "        Tm_pred.append(Tm_next)\n",
    "        Tl_pred.append(Tl_next)\n",
    "\n",
    "    return np.array(Tu_pred), np.array(Tm_pred), np.array(Tl_pred)"
   ]
  },
  {
   "cell_type": "markdown",
   "id": "a620465f",
   "metadata": {},
   "source": [
    "# Validation"
   ]
  },
  {
   "cell_type": "code",
   "execution_count": null,
   "id": "b3561fa0",
   "metadata": {},
   "outputs": [],
   "source": [
    "df"
   ]
  },
  {
   "cell_type": "code",
   "execution_count": null,
   "id": "206280ab",
   "metadata": {},
   "outputs": [
    {
     "data": {
      "text/plain": [
       "(array([48.40347626, 48.40347626, 48.40347626, 48.40347626, 48.40347626,\n",
       "        48.40347626, 48.40347626, 48.40347626, 48.40347626, 48.40347626,\n",
       "        48.40347626, 48.40347626, 48.40347626, 48.40347626, 48.40347626,\n",
       "        48.40347626]),\n",
       " array([48.40347495, 48.40347495, 48.40347495, 48.40347495, 48.40347495,\n",
       "        48.40347495, 48.40347495, 48.40347495, 48.40347495, 48.40347495,\n",
       "        48.40347495, 48.40347495, 48.40347495, 48.40347495, 48.40347495,\n",
       "        48.40347495]),\n",
       " array([20., 20., 20., 20., 20., 20., 20., 20., 20., 20., 20., 20., 20.,\n",
       "        20., 20., 20.]))"
      ]
     },
     "execution_count": 34,
     "metadata": {},
     "output_type": "execute_result"
    }
   ],
   "source": [
    "predict_temperatures([48.4034762611966,48.403474954745896,20], 15, theta.value)\n",
    "\n",
    "\n",
    "if type == 1: # HPWH\n",
    "    val_data = pd.read_csv(\"output_site_90159.csv\")\n",
    "\n",
    "else: #EWH\n",
    "    val_data = pd.read_csv(\"output_site_90159_ewh.csv\") \n",
    "\n",
    "#val_data = pd.read_csv(\"output_site_90023_ewh.csv\")\n",
    "#val_data = pd.read_csv(\"output_site_10441.csv\")\n",
    "#val_data = pd.read_csv(\"output_site_null.csv\")\n",
    "X_val, y_val = csv_to_features(val_data, type)\n",
    "\n",
    "#filter out temperatures below 40\n",
    "X_val_filtered = []\n",
    "y_val_filtered = []\n",
    "for x, y in zip(X_val, y_val):\n",
    "    if all(val >= 40 for val in y):\n",
    "        X_val_filtered.append(x)\n",
    "        y_val_filtered.append(y)\n",
    "X_val = X_val_filtered\n",
    "y_val = y_val_filtered\n",
    "\n",
    "from sklearn.linear_model import LinearRegression\n",
    "\n",
    "#error metrics\n",
    "from sklearn.metrics import r2_score\n",
    "y_predict_val = model.predict(X_val)\n",
    "\n",
    "r_2_val = r2_score(y_val, y_predict_val)\n",
    "print(f\"test coefficient of determination: {r_2_val}\")\n",
    "\n",
    "from sklearn.metrics import mean_squared_error\n",
    "\n",
    "mse = mean_squared_error(y_val, y_predict_val, multioutput='uniform_average')\n",
    "print(\"Mean Squared Error:\", mse)\n"
   ]
  },
  {
   "cell_type": "markdown",
   "id": "9883f688",
   "metadata": {},
   "source": [
    "Experiments\n",
    "1) Perfect foresight of future hourly average water use patterns (accurate in daily shape but not granular)\n",
    "    36, 54, and 72 gal/day draw profilesout\n",
    "    Simulation based test 28.8 to 72 gal/day\n",
    "\n",
    "2) CasADi python optimization package, IPOPT solver\n",
    "\n",
    "3) Use cvxpy for OLS, etc."
   ]
  }
 ],
 "metadata": {
  "kernelspec": {
   "display_name": "ochreEnv",
   "language": "python",
   "name": "python3"
  },
  "language_info": {
   "codemirror_mode": {
    "name": "ipython",
    "version": 3
   },
   "file_extension": ".py",
   "mimetype": "text/x-python",
   "name": "python",
   "nbconvert_exporter": "python",
   "pygments_lexer": "ipython3",
   "version": "3.11.11"
  }
 },
 "nbformat": 4,
 "nbformat_minor": 5
}
