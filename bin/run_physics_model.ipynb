{
 "cells": [
  {
   "cell_type": "code",
   "execution_count": null,
   "id": "8793c9f6",
   "metadata": {},
   "outputs": [],
   "source": [
    "# temp_i+1 = temp_i + dt/m \n",
    "\n",
    "#tank insulation\n",
    "\n",
    "cp = 4181.3\n",
    "rho = 1000\n",
    "t_a = 22\n",
    "\n",
    "new_temp = temp + dt/m * (u/(rho * cp * V) * (t_a - temp) + (power/(rho*cp * V)) )\n"
   ]
  }
 ],
 "metadata": {
  "language_info": {
   "name": "python"
  }
 },
 "nbformat": 4,
 "nbformat_minor": 5
}
