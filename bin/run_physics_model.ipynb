{
 "cells": [
  {
   "cell_type": "code",
   "execution_count": null,
   "id": "80dc619c",
   "metadata": {},
   "outputs": [
    {
     "name": "stdout",
     "output_type": "stream",
     "text": [
      "\n",
      "The optimal value is 2.171681078458453e+19\n",
      "Ul = 236869.9054\n",
      "Um = -152650.9392\n",
      "Uu = -5704.3321\n",
      "Kml = 917171.3392\n",
      "Kum = 927299.7436\n",
      "Vm = 40.3624\n",
      "Vu = 50.1466\n",
      "The norm of the residual is  4660129910.698255\n"
     ]
    }
   ],
   "source": [
    "import numpy as np\n",
    "import cvxpy as cp\n",
    "import pandas as pd\n",
    "\n",
    "type = 1  # Change this to 1 for HPWH\n",
    "if type == 1:\n",
    "    df = pd.read_csv(\"output_site_null_60_12.csv\")\n",
    "\n",
    "else:\n",
    "    df = pd.read_csv(\"output_site_null_ewh.csv\")\n",
    "\n",
    "# Constants\n",
    "cp_val = 4181.3\n",
    "rho = 1000\n",
    "dt = 8 #what should this be? euler steps per timestep?\n",
    "T_a = 22\n",
    "V = 250 #(L)\n",
    "\n",
    "# Data\n",
    "P_u = [value if mode == \"Upper On\" else 0 for value, mode in zip(df[\"Average Electric Power\"], df[\"Water Heating Mode\"])]\n",
    "P_m = [value if mode == \"Lower On\" else 0 for value, mode in zip(df[\"Average Electric Power\"], df[\"Water Heating Mode\"])]\n",
    "T_u = df[\"T_WH3\"].values\n",
    "T_m = df[\"T_WH10\"].values\n",
    "T_l = df[\"T_WH12\"].values\n",
    "\n",
    "W_list = []\n",
    "z_list = []\n",
    "\n",
    "for j in range(len(T_u) - 1):  # because of j+1\n",
    "    Wj = np.zeros((3, 7))  # Each Wj is 3x7\n",
    "\n",
    "    # Row 1: Upper node (δtpu)\n",
    "    Wj[0, 2] = dt * (T_u[j] - T_a)       # U_u\n",
    "    Wj[0, 4] = dt * (T_u[j] - T_m[j])    # K_um\n",
    "    Wj[0, 6] = rho * cp_val * (T_u[j+1] - T_u[j])  # V_u\n",
    "\n",
    "    # Row 2: Middle node (δtpm)\n",
    "    Wj[1, 1] = dt * (T_m[j] - T_a)       # U_m\n",
    "    Wj[1, 3] = dt * (T_m[j] - T_l[j])    # K_ml\n",
    "    Wj[1, 4] = dt * (T_m[j] - T_u[j])    # K_um\n",
    "    Wj[1, 5] = rho * cp_val * (T_m[j+1] - T_m[j])  # V_m\n",
    "\n",
    "    # Row 3: Lower node\n",
    "    Wj[2, 0] = dt * (T_l[j] - T_a)       # U_l\n",
    "    Wj[2, 3] = dt * (T_l[j] - T_m[j])    # K_ml\n",
    "    Wj[2, 5] = -rho * cp_val * (T_l[j+1] - T_l[j])  # -V_m\n",
    "    Wj[2, 6] = -rho * cp_val * (T_l[j+1] - T_l[j])  # -V_u\n",
    "\n",
    "    # not sure what this should be\n",
    "    z_j = np.array([\n",
    "        # δtpu upper node\n",
    "        dt * (P_u[j]), #Power node 3 * time interval (60s?)\n",
    "\n",
    "        # δtpm middle node\n",
    "        dt * (P_m[j]),\n",
    "\n",
    "        # lower node energy change\n",
    "        V * rho * cp_val * (T_l[j] - T_l[j+1]) #node 16 cold water input\n",
    "    ])\n",
    "\n",
    "    W_list.append(Wj)\n",
    "    z_list.append(z_j)\n",
    "\n",
    "# Stack based on time dimension\n",
    "W = np.vstack(W_list)  # (3N x 7)\n",
    "z_full = np.hstack(z_list)  # (3N, )\n",
    "\n",
    "# CVXPY OLS problem\n",
    "theta = cp.Variable(7) #Ul, Um, Uu, Kml, Kum, Vm, Vu] U - Tank Insulation, K - thermal conductivity, V - node volume\n",
    "cost = cp.sum_squares(W @ theta - z_full) #z_j = W_j @ theta\n",
    "problem = cp.Problem(cp.Minimize(cost))\n",
    "problem.solve()\n",
    "\n",
    "# Output estimated parameters\n",
    "param_names = [\"Ul\", \"Um\", \"Uu\", \"Kml\", \"Kum\", \"Vm\", \"Vu\"]\n",
    "print(\"\\nThe optimal value is\", problem.value)\n",
    "for name, val in zip(param_names, theta.value):\n",
    "    print(f\"{name} = {val:.4f}\")\n",
    "\n",
    "print(\"The norm of the residual is \", cp.norm(W @ theta - z_full, p=2).value)\n"
   ]
  },
  {
   "cell_type": "code",
   "execution_count": 98,
   "id": "7c7f4daf",
   "metadata": {},
   "outputs": [
    {
     "data": {
      "text/plain": [
       "[]"
      ]
     },
     "execution_count": 98,
     "metadata": {},
     "output_type": "execute_result"
    }
   ],
   "source": [
    "T_u_positive = [value for value in T_u if value > 0]\n",
    "T_u_positive"
   ]
  },
  {
   "cell_type": "code",
   "execution_count": 100,
   "id": "f8157f4b",
   "metadata": {},
   "outputs": [],
   "source": [
    "#Rearrange energy balance formulas to compute T[j + 1]\n",
    "\n",
    "def predict_temperatures(T_init, timesteps, theta, draws, dt=1, cp=4181.3, rho=1000, T_a=22, V =250):\n",
    "    Ul, Um, Uu, Kml, Kum, Vm, Vu = theta\n",
    "    Vl = V - Vm  - Vu\n",
    "    Tu_pred, Tm_pred, Tl_pred = [], [], []\n",
    "\n",
    "    # Starting Temperatures [upper, middle, lower] nodes\n",
    "    Tu_pred.append(T_init[0])\n",
    "    Tm_pred.append(T_init[1])\n",
    "    Tl_pred.append(T_init[2])\n",
    "\n",
    "    for t in range(timesteps - 1):\n",
    "        Tu = Tu_pred[-1] #get last predictions\n",
    "        Tm = Tm_pred[-1]\n",
    "        Tl = Tl_pred[-1]\n",
    "        vt = draws[t] #draws\n",
    "\n",
    "        #rearrange energy balance equations for Euler Update\n",
    "        # Upper node\n",
    "        Tu_next = Tu + (1 / (rho * cp * Vu)) * (\n",
    "            Uu * dt * vt * (T_a - Tu) +\n",
    "            Kum * dt * vt * (Tm - Tu)\n",
    "        )\n",
    "\n",
    "        # Middle node\n",
    "        Tm_next = Tm + (1 / (rho * cp * Vm)) * (\n",
    "            Um * dt * vt *  (T_a - Tm) +\n",
    "            Kml * dt * vt * (Tl - Tm) +\n",
    "            Kum * dt * vt * (Tu - Tm)\n",
    "        )\n",
    "\n",
    "        # Lower node\n",
    "        Tl_next = Tl - (1 / (rho * cp * (V + Vm + Vu)))  *(\n",
    "            Ul * dt * vt *  (Tl - T_a) +\n",
    "            Kml * dt * vt * (Tl - Tm)\n",
    "        )\n",
    "\n",
    "        Tu_pred.append(Tu_next)\n",
    "        Tm_pred.append(Tm_next)\n",
    "        Tl_pred.append(Tl_next)\n",
    "\n",
    "    return np.array(Tu_pred), np.array(Tm_pred), np.array(Tl_pred)"
   ]
  },
  {
   "cell_type": "markdown",
   "id": "a620465f",
   "metadata": {},
   "source": [
    "# Validation"
   ]
  },
  {
   "cell_type": "code",
   "execution_count": 101,
   "id": "7231f103",
   "metadata": {},
   "outputs": [
    {
     "name": "stdout",
     "output_type": "stream",
     "text": [
      "MSE Upper: 1.303\n",
      "MSE Middle: 7.826\n",
      "MSE Lower: 49.976\n"
     ]
    }
   ],
   "source": [
    "import pandas as pd\n",
    "from sklearn.metrics import mean_squared_error\n",
    "\n",
    "# Choose data based on type\n",
    "\n",
    "if type == 1:  # HPWH\n",
    "    val_data = pd.read_csv(\"output_site_90023.csv\")\n",
    "else:  # EWH\n",
    "    val_data = pd.read_csv(\"output_site_90023_ewh.csv\")\n",
    "\n",
    "# Parameters\n",
    "window_size = 8\n",
    "predictions = []\n",
    "true_values = []\n",
    "\n",
    "val_data = val_data[val_data['Hot Water Outlet Temperature (C)'] >= 40] #filter for above 40 temperatures\n",
    "\n",
    "# Sanity check, iterate through idle\n",
    "for index in range(len(val_data) - window_size):\n",
    "    t_u = val_data['T_WH3'].iloc[index]\n",
    "    t_m = val_data['T_WH10'].iloc[index]\n",
    "    t_l = val_data['T_WH12'].iloc[index]\n",
    "    draws = val_data['Draw Data'].iloc[index: index + window_size].reset_index(drop=True)\n",
    "    \n",
    "    y_pred = predict_temperatures([t_u, t_m, t_l], window_size, theta.value, draws)\n",
    "    y_true = [\n",
    "        val_data['T_WH3'].iloc[index  : index  + window_size].values,\n",
    "        val_data['T_WH10'].iloc[index : index  + window_size].values,\n",
    "        val_data['T_WH12'].iloc[index : index + window_size].values\n",
    "    ]\n",
    "    \n",
    "    predictions.append(y_pred)\n",
    "    true_values.append(y_true)\n",
    "    index += 1\n",
    "\n",
    "# Flatten lists for metrics, depending on model output format\n",
    "# Example: compute MSE for each level\n",
    "import numpy as np\n",
    "\n",
    "y_pred_array = np.array(predictions)  # shape: (n_sam09ples, 3, window_size) or similar\n",
    "y_true_array = np.array(true_values)\n",
    "\n",
    "mse_upper = mean_squared_error(y_true_array[:, 0, :].flatten(), y_pred_array[:, 0, :].flatten())\n",
    "mse_middle = mean_squared_error(y_true_array[:, 1, :].flatten(), y_pred_array[:, 1, :].flatten())\n",
    "mse_lower = mean_squared_error(y_true_array[:, 2, :].flatten(), y_pred_array[:, 2, :].flatten())\n",
    "\n",
    "print(f\"MSE Upper: {mse_upper:.3f}\")\n",
    "print(f\"MSE Middle: {mse_middle:.3f}\")\n",
    "print(f\"MSE Lower: {mse_lower:.3f}\")\n"
   ]
  },
  {
   "cell_type": "code",
   "execution_count": 87,
   "id": "e8d39eac",
   "metadata": {},
   "outputs": [
    {
     "data": {
      "text/plain": [
       "(array([48.40347495, 48.40347495, 48.40347495, 48.40347495, 48.40347495,\n",
       "        48.40347495, 48.40347495, 48.40347495]),\n",
       " array([48.40347626, 48.40347626, 48.40347626, 48.40347626, 48.40347626,\n",
       "        48.40347626, 48.40347626, 48.40347626]),\n",
       " array([48.40347495, 48.40347495, 48.40347495, 48.40347495, 48.40347495,\n",
       "        48.40347495, 48.40347495, 48.40347495]))"
      ]
     },
     "execution_count": 87,
     "metadata": {},
     "output_type": "execute_result"
    }
   ],
   "source": [
    "predictions[0]\n"
   ]
  },
  {
   "cell_type": "code",
   "execution_count": 102,
   "id": "5f540002",
   "metadata": {},
   "outputs": [
    {
     "data": {
      "application/vnd.jupyter.widget-view+json": {
       "model_id": "470709e2abe247c69de4805aea3d7979",
       "version_major": 2,
       "version_minor": 0
      },
      "text/plain": [
       "interactive(children=(IntSlider(value=25, description='Day:', max=9676), IntSlider(value=0, description='Hour:…"
      ]
     },
     "metadata": {},
     "output_type": "display_data"
    },
    {
     "data": {
      "text/plain": [
       "<function __main__.plot_predictions_by_hour(day, hour)>"
      ]
     },
     "execution_count": 102,
     "metadata": {},
     "output_type": "execute_result"
    }
   ],
   "source": [
    "import matplotlib.pyplot as plt\n",
    "import pandas as pd\n",
    "import numpy as np\n",
    "from datetime import datetime\n",
    "import ipywidgets as widgets\n",
    "from IPython.display import display\n",
    "import matplotlib.dates as mdates\n",
    "\n",
    "#Predictions for 1 timestep\n",
    "\n",
    "# Constants\n",
    "intervals = 96  # 1440 minutes / 15 min interval = 96 per day\n",
    "year = \"2013\"\n",
    "window = 8\n",
    "\n",
    "\n",
    "# Create datetime labels for x-axis\n",
    "start_time = datetime(2013, 1, 1, 0, 0)\n",
    "end_time = datetime(2013, 1, 1, 23, 59)\n",
    "datetime_list = pd.date_range(start=start_time, end=end_time, freq=\"15min\")\n",
    "time_labels = [dt.strftime(\"%H:%M\") for dt in datetime_list]\n",
    "\n",
    "import copy\n",
    "# Interactive plot function\n",
    "def plot_predictions_by_hour(day, hour):\n",
    "    plt.figure(figsize=(10, 5))\n",
    "    \n",
    "    start_idx = intervals * day\n",
    "    \n",
    "    x_day = (val_data[start_idx : start_idx + intervals])\n",
    "    predictions_day = predictions[start_idx : start_idx + intervals]\n",
    "    actual_day = true_values[start_idx : start_idx + intervals]\n",
    "    draw_data_day = x_day['Draw Data']\n",
    "    power_day = x_day['Average Electric Power']\n",
    "\n",
    "\n",
    "    time_idx = hour * 4  # 4 intervals per hour\n",
    "\n",
    "    pred_times = time_labels[time_idx : time_idx + 8]\n",
    "    y_pred = predictions_day[time_idx] #returns predictions for top, middle, and bottom nodes\n",
    "    y_true = actual_day[time_idx] \n",
    "\n",
    "\n",
    "    draw_slice = draw_data_day[time_idx : time_idx + 8]\n",
    "    power_slice = power_day[time_idx : time_idx + 8] * 100\n",
    "\n",
    "    # Convert day number to readable date\n",
    "    day_num = str((day + 17) % 365).rjust(3, '0')\n",
    "    date_label = datetime.strptime(year + \"-\" + day_num, \"%Y-%j\").strftime(\"%m-%d-%Y\")\n",
    "\n",
    "    # Primary axis for temperatures\n",
    "    fig, ax1 = plt.subplots(figsize=(10, 5))\n",
    "\n",
    "    ax1.plot(pred_times, y_true[0], label=\"Actual Outlet Temp\", color=\"black\", marker='o')\n",
    "    ax1.plot(pred_times, y_pred[0], label=\"Predicted Outlet Temp\", color=\"orange\", marker='x', linestyle=\"--\")\n",
    "    ax1.set_ylabel(\"Temperature (°C)\")\n",
    "    ax1.set_title(f\"{date_label} @ {time_labels[time_idx]} — Predictions for t+0 to t+7\")\n",
    "    ax1.set_xticks(pred_times)\n",
    "    ax1.set_xticklabels(pred_times, rotation=45)\n",
    "    ax1.grid(True)\n",
    "\n",
    "    # Secondary axis for water draw\n",
    "        # Secondary axis for water draw\n",
    "    ax2 = ax1.twinx()\n",
    "    ax2.plot(pred_times, draw_slice, label=\"Water Drawn (L)\", color=\"blue\", linestyle=\"dotted\", marker='s')\n",
    "    ax2.plot(pred_times, power_slice, label=\"Average Power (kWH)\", color = \"green\")\n",
    "    ax2.set_ylabel(\"Water Drawn (L)\")\n",
    "    ax2.set_ylim(0, 200)  # Ensure 0 is at the bottom\n",
    "\n",
    "\n",
    "    # Combined legend\n",
    "    lines_1, labels_1 = ax1.get_legend_handles_labels()\n",
    "    lines_2, labels_2 = ax2.get_legend_handles_labels()\n",
    "    ax1.legend(lines_1 + lines_2, labels_1 + labels_2, loc='upper left', bbox_to_anchor=(1.05, 1))\n",
    "\n",
    "    plt.tight_layout()\n",
    "    plt.show()\n",
    "    print(power_slice/100)\n",
    "\n",
    "# Slider widgets\n",
    "day_slider = widgets.IntSlider(value=25, min=0, max=len(val_data)//intervals - 1, step=1, description=\"Day:\")\n",
    "hour_slider = widgets.IntSlider(value=0, min=0, max=23, step=1, description=\"Hour:\")\n",
    "\n",
    "# Display interactive plot\n",
    "widgets.interact(plot_predictions_by_hour, day=day_slider, hour=hour_slider)\n",
    "\n"
   ]
  },
  {
   "cell_type": "markdown",
   "id": "9883f688",
   "metadata": {},
   "source": [
    "Experiments\n",
    "1) Perfect foresight of future hourly average water use patterns (accurate in daily shape but not granular)\n",
    "    36, 54, and 72 gal/day draw profilesout\n",
    "    Simulation based test 28.8 to 72 gal/day\n",
    "\n",
    "2) CasADi python optimization package, IPOPT solver\n",
    "\n",
    "3) Use cvxpy for OLS, etc."
   ]
  }
 ],
 "metadata": {
  "kernelspec": {
   "display_name": "ochreEnv",
   "language": "python",
   "name": "python3"
  },
  "language_info": {
   "codemirror_mode": {
    "name": "ipython",
    "version": 3
   },
   "file_extension": ".py",
   "mimetype": "text/x-python",
   "name": "python",
   "nbconvert_exporter": "python",
   "pygments_lexer": "ipython3",
   "version": "3.11.11"
  }
 },
 "nbformat": 4,
 "nbformat_minor": 5
}
