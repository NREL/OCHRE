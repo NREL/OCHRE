{
 "cells": [
  {
   "cell_type": "code",
   "execution_count": 19,
   "id": "80dc619c",
   "metadata": {},
   "outputs": [
    {
     "name": "stdout",
     "output_type": "stream",
     "text": [
      "\n",
      "The optimal value is 4.4944717676283175e+19\n",
      "Ul = 160761.3275\n",
      "Um = 215272.2738\n",
      "Uu = -12495.6420\n",
      "Kml = -88845.5029\n",
      "Kum = 17430289.4647\n",
      "Vm = 44.1972\n",
      "Vu = 198.5966\n",
      "The norm of the residual is  6704082165.090394\n"
     ]
    }
   ],
   "source": [
    "import numpy as np\n",
    "import cvxpy as cp\n",
    "import pandas as pd\n",
    "\n",
    "type = 2  # Change this to 1 for HPWH\n",
    "if type == 1:\n",
    "    df = pd.read_csv(\"output_site_null.csv\")\n",
    "\n",
    "else:\n",
    "    df = pd.read_csv(\"output_site_null_ewh.csv\")\n",
    "\n",
    "# Constants\n",
    "cp_val = 4181.3\n",
    "rho = 1000\n",
    "dt = 8 #what should this be? euler steps per timestep?\n",
    "T_a = 22\n",
    "V = 250 #(L)\n",
    "\n",
    "# Data\n",
    "T_u = [value if mode == \"Upper On\" else 0 for value, mode in zip(df[\"Average Electric Power\"], df[\"Water Heating Mode\"])]\n",
    "T_m = [value if mode == \"Lower On\" else 0 for value, mode in zip(df[\"Average Electric Power\"], df[\"Water Heating Mode\"])]\n",
    "T_l = df[\"T_WH12\"].values\n",
    "\n",
    "W_list = []\n",
    "z_list = []\n",
    "\n",
    "for j in range(len(T_u) - 1):  # because of j+1\n",
    "    Wj = np.zeros((3, 7))  # Each Wj is 3x7\n",
    "\n",
    "    # Row 1: Upper node (δtpu)\n",
    "    Wj[0, 2] = dt * (T_u[j] - T_a)       # U_u\n",
    "    Wj[0, 4] = dt * (T_u[j] - T_m[j])    # K_um\n",
    "    Wj[0, 6] = rho * cp_val * (T_u[j+1] - T_u[j])  # V_u\n",
    "\n",
    "    # Row 2: Middle node (δtpm)\n",
    "    Wj[1, 1] = dt * (T_m[j] - T_a)       # U_m\n",
    "    Wj[1, 3] = dt * (T_m[j] - T_l[j])    # K_ml\n",
    "    Wj[1, 4] = dt * (T_m[j] - T_u[j])    # K_um\n",
    "    Wj[1, 5] = rho * cp_val * (T_m[j+1] - T_m[j])  # V_m\n",
    "\n",
    "    # Row 3: Lower node\n",
    "    Wj[2, 0] = dt * (T_l[j] - T_a)       # U_l\n",
    "    Wj[2, 3] = dt * (T_l[j] - T_m[j])    # K_ml\n",
    "    Wj[2, 5] = -rho * cp_val * (T_l[j+1] - T_l[j])  # -V_m\n",
    "    Wj[2, 6] = -rho * cp_val * (T_l[j+1] - T_l[j])  # -V_u\n",
    "\n",
    "    # not sure what this should be\n",
    "    z_j = np.array([\n",
    "        # δtpu upper node\n",
    "        dt * (T_u[j]), #Power node 3 * time interval (60s?)\n",
    "\n",
    "        # δtpm middle node\n",
    "        dt * (T_m[j]),\n",
    "\n",
    "        # lower node energy change\n",
    "        V * rho * cp_val * (T_l[j] - T_l[j+1]) #node 16 cold water input\n",
    "    ])\n",
    "\n",
    "    W_list.append(Wj)\n",
    "    z_list.append(z_j)\n",
    "\n",
    "# Stack based on time dimension\n",
    "W = np.vstack(W_list)  # (3N x 7)\n",
    "z_full = np.hstack(z_list)  # (3N, )\n",
    "\n",
    "# CVXPY OLS problem\n",
    "theta = cp.Variable(7) #Ul, Um, Uu, Kml, Kum, Vm, Vu] U - Tank Insulation, K - thermal conductivity, V - node volume\n",
    "cost = cp.sum_squares(W @ theta - z_full) #z_j = W_j @ theta\n",
    "problem = cp.Problem(cp.Minimize(cost))\n",
    "problem.solve()\n",
    "\n",
    "# Output estimated parameters\n",
    "param_names = [\"Ul\", \"Um\", \"Uu\", \"Kml\", \"Kum\", \"Vm\", \"Vu\"]\n",
    "print(\"\\nThe optimal value is\", problem.value)\n",
    "for name, val in zip(param_names, theta.value):\n",
    "    print(f\"{name} = {val:.4f}\")\n",
    "\n",
    "print(\"The norm of the residual is \", cp.norm(W @ theta - z_full, p=2).value)\n"
   ]
  },
  {
   "cell_type": "code",
   "execution_count": 4,
   "id": "80955c27",
   "metadata": {},
   "outputs": [
    {
     "data": {
      "text/plain": [
       "array([[ 0.00000000e+00,  0.00000000e+00, -1.76000000e+02,\n",
       "         0.00000000e+00,  0.00000000e+00,  0.00000000e+00,\n",
       "         0.00000000e+00],\n",
       "       [ 0.00000000e+00, -1.76000000e+02,  0.00000000e+00,\n",
       "        -3.86819350e+02,  0.00000000e+00,  0.00000000e+00,\n",
       "         0.00000000e+00],\n",
       "       [ 2.10819350e+02,  0.00000000e+00,  0.00000000e+00,\n",
       "         3.86819350e+02,  0.00000000e+00,  4.08005133e+05,\n",
       "         4.08005133e+05]])"
      ]
     },
     "execution_count": 4,
     "metadata": {},
     "output_type": "execute_result"
    }
   ],
   "source": [
    "W_list[0]"
   ]
  },
  {
   "cell_type": "code",
   "execution_count": 1,
   "id": "f8157f4b",
   "metadata": {},
   "outputs": [],
   "source": [
    "#Rearrange energy balance formulas to compute T[j + 1]\n",
    "\n",
    "def predict_temperatures(T_init, timesteps, theta, draws, dt=1, cp=4181.3, rho=1000, T_a=22, V =250):\n",
    "    Ul, Um, Uu, Kml, Kum, Vm, Vu = theta\n",
    "    Vl = V - Vm  - Vu\n",
    "    Tu_pred, Tm_pred, Tl_pred = [], [], []\n",
    "\n",
    "    # Starting Temperatures [upper, middle, lower] nodes\n",
    "    Tu_pred.append(T_init[0])\n",
    "    Tm_pred.append(T_init[1])\n",
    "    Tl_pred.append(T_init[2])\n",
    "\n",
    "    for t in range(timesteps - 1):\n",
    "        Tu = Tu_pred[-1] #get last predictions\n",
    "        Tm = Tm_pred[-1]\n",
    "        Tl = Tl_pred[-1]\n",
    "        vt = draws[t] #draws\n",
    "\n",
    "        #rearrange energy balance equations for Euler Update\n",
    "        # Upper node\n",
    "        Tu_next = Tu + (1 / (rho * cp * Vu)) * (\n",
    "            Uu * dt * vt * (T_a - Tu) +\n",
    "            Kum * dt * vt * (Tm - Tu)\n",
    "        )\n",
    "\n",
    "        # Middle node\n",
    "        Tm_next = Tm + (1 / (rho * cp * Vm)) * (\n",
    "            Um * dt * vt *  (T_a - Tm) +\n",
    "            Kml * dt * vt * (Tl - Tm) +\n",
    "            Kum * dt * vt * (Tu - Tm)\n",
    "        )\n",
    "\n",
    "        # Lower node\n",
    "        Tl_next = Tl - (1 / (rho * cp * (V + Vm + Vu)))  *(\n",
    "            Ul * dt * vt *  (Tl - T_a) +\n",
    "            Kml * dt * vt * (Tl - Tm)\n",
    "        )\n",
    "\n",
    "        Tu_pred.append(Tu_next)\n",
    "        Tm_pred.append(Tm_next)\n",
    "        Tl_pred.append(Tl_next)\n",
    "\n",
    "    return np.array(Tu_pred), np.array(Tm_pred), np.array(Tl_pred)"
   ]
  },
  {
   "cell_type": "markdown",
   "id": "a620465f",
   "metadata": {},
   "source": [
    "# Validation"
   ]
  },
  {
   "cell_type": "code",
   "execution_count": null,
   "id": "7231f103",
   "metadata": {},
   "outputs": [
    {
     "ename": "KeyError",
     "evalue": "'Draw Data (L)'",
     "output_type": "error",
     "traceback": [
      "\u001b[1;31m---------------------------------------------------------------------------\u001b[0m",
      "\u001b[1;31mKeyError\u001b[0m                                  Traceback (most recent call last)",
      "File \u001b[1;32mc:\\Users\\janel\\anaconda3\\envs\\ochreEnv\\Lib\\site-packages\\pandas\\core\\indexes\\base.py:3805\u001b[0m, in \u001b[0;36mIndex.get_loc\u001b[1;34m(self, key)\u001b[0m\n\u001b[0;32m   3804\u001b[0m \u001b[38;5;28;01mtry\u001b[39;00m:\n\u001b[1;32m-> 3805\u001b[0m     \u001b[38;5;28;01mreturn\u001b[39;00m \u001b[38;5;28;43mself\u001b[39;49m\u001b[38;5;241;43m.\u001b[39;49m\u001b[43m_engine\u001b[49m\u001b[38;5;241;43m.\u001b[39;49m\u001b[43mget_loc\u001b[49m\u001b[43m(\u001b[49m\u001b[43mcasted_key\u001b[49m\u001b[43m)\u001b[49m\n\u001b[0;32m   3806\u001b[0m \u001b[38;5;28;01mexcept\u001b[39;00m \u001b[38;5;167;01mKeyError\u001b[39;00m \u001b[38;5;28;01mas\u001b[39;00m err:\n",
      "File \u001b[1;32mindex.pyx:167\u001b[0m, in \u001b[0;36mpandas._libs.index.IndexEngine.get_loc\u001b[1;34m()\u001b[0m\n",
      "File \u001b[1;32mindex.pyx:196\u001b[0m, in \u001b[0;36mpandas._libs.index.IndexEngine.get_loc\u001b[1;34m()\u001b[0m\n",
      "File \u001b[1;32mpandas\\\\_libs\\\\hashtable_class_helper.pxi:7081\u001b[0m, in \u001b[0;36mpandas._libs.hashtable.PyObjectHashTable.get_item\u001b[1;34m()\u001b[0m\n",
      "File \u001b[1;32mpandas\\\\_libs\\\\hashtable_class_helper.pxi:7089\u001b[0m, in \u001b[0;36mpandas._libs.hashtable.PyObjectHashTable.get_item\u001b[1;34m()\u001b[0m\n",
      "\u001b[1;31mKeyError\u001b[0m: 'Draw Data (L)'",
      "\nThe above exception was the direct cause of the following exception:\n",
      "\u001b[1;31mKeyError\u001b[0m                                  Traceback (most recent call last)",
      "Cell \u001b[1;32mIn[20], line 21\u001b[0m\n\u001b[0;32m     19\u001b[0m t_m \u001b[38;5;241m=\u001b[39m val_data[\u001b[38;5;124m'\u001b[39m\u001b[38;5;124mT_WH10\u001b[39m\u001b[38;5;124m'\u001b[39m]\u001b[38;5;241m.\u001b[39miloc[index]\n\u001b[0;32m     20\u001b[0m t_l \u001b[38;5;241m=\u001b[39m val_data[\u001b[38;5;124m'\u001b[39m\u001b[38;5;124mT_WH12\u001b[39m\u001b[38;5;124m'\u001b[39m]\u001b[38;5;241m.\u001b[39miloc[index]\n\u001b[1;32m---> 21\u001b[0m draws \u001b[38;5;241m=\u001b[39m \u001b[43mval_data\u001b[49m\u001b[43m[\u001b[49m\u001b[38;5;124;43m'\u001b[39;49m\u001b[38;5;124;43mDraw Data (L)\u001b[39;49m\u001b[38;5;124;43m'\u001b[39;49m\u001b[43m]\u001b[49m\u001b[38;5;241m.\u001b[39miloc[index: index \u001b[38;5;241m+\u001b[39m window_size]\u001b[38;5;241m.\u001b[39mreset_index(drop\u001b[38;5;241m=\u001b[39m\u001b[38;5;28;01mTrue\u001b[39;00m)\n\u001b[0;32m     23\u001b[0m y_pred \u001b[38;5;241m=\u001b[39m predict_temperatures([t_u, t_m, t_l], window_size, theta\u001b[38;5;241m.\u001b[39mvalue, draws)\n\u001b[0;32m     24\u001b[0m y_true \u001b[38;5;241m=\u001b[39m [\n\u001b[0;32m     25\u001b[0m     val_data[\u001b[38;5;124m'\u001b[39m\u001b[38;5;124mT_WH3\u001b[39m\u001b[38;5;124m'\u001b[39m]\u001b[38;5;241m.\u001b[39miloc[index  : index  \u001b[38;5;241m+\u001b[39m window_size]\u001b[38;5;241m.\u001b[39mvalues,\n\u001b[0;32m     26\u001b[0m     val_data[\u001b[38;5;124m'\u001b[39m\u001b[38;5;124mT_WH10\u001b[39m\u001b[38;5;124m'\u001b[39m]\u001b[38;5;241m.\u001b[39miloc[index : index  \u001b[38;5;241m+\u001b[39m window_size]\u001b[38;5;241m.\u001b[39mvalues,\n\u001b[0;32m     27\u001b[0m     val_data[\u001b[38;5;124m'\u001b[39m\u001b[38;5;124mT_WH12\u001b[39m\u001b[38;5;124m'\u001b[39m]\u001b[38;5;241m.\u001b[39miloc[index : index \u001b[38;5;241m+\u001b[39m window_size]\u001b[38;5;241m.\u001b[39mvalues\n\u001b[0;32m     28\u001b[0m ]\n",
      "File \u001b[1;32mc:\\Users\\janel\\anaconda3\\envs\\ochreEnv\\Lib\\site-packages\\pandas\\core\\frame.py:4102\u001b[0m, in \u001b[0;36mDataFrame.__getitem__\u001b[1;34m(self, key)\u001b[0m\n\u001b[0;32m   4100\u001b[0m \u001b[38;5;28;01mif\u001b[39;00m \u001b[38;5;28mself\u001b[39m\u001b[38;5;241m.\u001b[39mcolumns\u001b[38;5;241m.\u001b[39mnlevels \u001b[38;5;241m>\u001b[39m \u001b[38;5;241m1\u001b[39m:\n\u001b[0;32m   4101\u001b[0m     \u001b[38;5;28;01mreturn\u001b[39;00m \u001b[38;5;28mself\u001b[39m\u001b[38;5;241m.\u001b[39m_getitem_multilevel(key)\n\u001b[1;32m-> 4102\u001b[0m indexer \u001b[38;5;241m=\u001b[39m \u001b[38;5;28;43mself\u001b[39;49m\u001b[38;5;241;43m.\u001b[39;49m\u001b[43mcolumns\u001b[49m\u001b[38;5;241;43m.\u001b[39;49m\u001b[43mget_loc\u001b[49m\u001b[43m(\u001b[49m\u001b[43mkey\u001b[49m\u001b[43m)\u001b[49m\n\u001b[0;32m   4103\u001b[0m \u001b[38;5;28;01mif\u001b[39;00m is_integer(indexer):\n\u001b[0;32m   4104\u001b[0m     indexer \u001b[38;5;241m=\u001b[39m [indexer]\n",
      "File \u001b[1;32mc:\\Users\\janel\\anaconda3\\envs\\ochreEnv\\Lib\\site-packages\\pandas\\core\\indexes\\base.py:3812\u001b[0m, in \u001b[0;36mIndex.get_loc\u001b[1;34m(self, key)\u001b[0m\n\u001b[0;32m   3807\u001b[0m     \u001b[38;5;28;01mif\u001b[39;00m \u001b[38;5;28misinstance\u001b[39m(casted_key, \u001b[38;5;28mslice\u001b[39m) \u001b[38;5;129;01mor\u001b[39;00m (\n\u001b[0;32m   3808\u001b[0m         \u001b[38;5;28misinstance\u001b[39m(casted_key, abc\u001b[38;5;241m.\u001b[39mIterable)\n\u001b[0;32m   3809\u001b[0m         \u001b[38;5;129;01mand\u001b[39;00m \u001b[38;5;28many\u001b[39m(\u001b[38;5;28misinstance\u001b[39m(x, \u001b[38;5;28mslice\u001b[39m) \u001b[38;5;28;01mfor\u001b[39;00m x \u001b[38;5;129;01min\u001b[39;00m casted_key)\n\u001b[0;32m   3810\u001b[0m     ):\n\u001b[0;32m   3811\u001b[0m         \u001b[38;5;28;01mraise\u001b[39;00m InvalidIndexError(key)\n\u001b[1;32m-> 3812\u001b[0m     \u001b[38;5;28;01mraise\u001b[39;00m \u001b[38;5;167;01mKeyError\u001b[39;00m(key) \u001b[38;5;28;01mfrom\u001b[39;00m\u001b[38;5;250m \u001b[39m\u001b[38;5;21;01merr\u001b[39;00m\n\u001b[0;32m   3813\u001b[0m \u001b[38;5;28;01mexcept\u001b[39;00m \u001b[38;5;167;01mTypeError\u001b[39;00m:\n\u001b[0;32m   3814\u001b[0m     \u001b[38;5;66;03m# If we have a listlike key, _check_indexing_error will raise\u001b[39;00m\n\u001b[0;32m   3815\u001b[0m     \u001b[38;5;66;03m#  InvalidIndexError. Otherwise we fall through and re-raise\u001b[39;00m\n\u001b[0;32m   3816\u001b[0m     \u001b[38;5;66;03m#  the TypeError.\u001b[39;00m\n\u001b[0;32m   3817\u001b[0m     \u001b[38;5;28mself\u001b[39m\u001b[38;5;241m.\u001b[39m_check_indexing_error(key)\n",
      "\u001b[1;31mKeyError\u001b[0m: 'Draw Data (L)'"
     ]
    }
   ],
   "source": [
    "import pandas as pd\n",
    "from sklearn.metrics import mean_squared_error\n",
    "\n",
    "# Choose data based on type\n",
    "\n",
    "if type == 1:  # HPWH\n",
    "    val_data = pd.read_csv(\"output_site_90023.csv\")\n",
    "else:  # EWH\n",
    "    val_data = pd.read_csv(\"output_site_90023_ewh.csv\")\n",
    "\n",
    "# Parameters\n",
    "window_size = 8\n",
    "predictions = []\n",
    "true_values = []\n",
    "\n",
    "# Sanity check, iterate through idle\n",
    "for index in range(len(val_data) - window_size):\n",
    "    t_u = val_data['T_WH3'].iloc[index]\n",
    "    t_m = val_data['T_WH10'].iloc[index]\n",
    "    t_l = val_data['T_WH12'].iloc[index]\n",
    "    draws = val_data['Draw Data'].iloc[index: index + window_size].reset_index(drop=True)\n",
    "    \n",
    "    y_pred = predict_temperatures([t_u, t_m, t_l], window_size, theta.value, draws)\n",
    "    y_true = [\n",
    "        val_data['T_WH3'].iloc[index  : index  + window_size].values,\n",
    "        val_data['T_WH10'].iloc[index : index  + window_size].values,\n",
    "        val_data['T_WH12'].iloc[index : index + window_size].values\n",
    "    ]\n",
    "    \n",
    "    predictions.append(y_pred)\n",
    "    true_values.append(y_true)\n",
    "    index += 1\n",
    "\n",
    "# Flatten lists for metrics, depending on model output format\n",
    "# Example: compute MSE for each level\n",
    "import numpy as np\n",
    "\n",
    "y_pred_array = np.array(predictions)  # shape: (n_samples, 3, window_size) or similar\n",
    "y_true_array = np.array(true_values)\n",
    "\n",
    "mse_upper = mean_squared_error(y_true_array[:, 0, :].flatten(), y_pred_array[:, 0, :].flatten())\n",
    "mse_middle = mean_squared_error(y_true_array[:, 1, :].flatten(), y_pred_array[:, 1, :].flatten())\n",
    "mse_lower = mean_squared_error(y_true_array[:, 2, :].flatten(), y_pred_array[:, 2, :].flatten())\n",
    "\n",
    "print(f\"MSE Upper: {mse_upper:.3f}\")\n",
    "print(f\"MSE Middle: {mse_middle:.3f}\")\n",
    "print(f\"MSE Lower: {mse_lower:.3f}\")\n"
   ]
  },
  {
   "cell_type": "code",
   "execution_count": null,
   "id": "5f540002",
   "metadata": {},
   "outputs": [
    {
     "data": {
      "text/plain": [
       "0.0"
      ]
     },
     "execution_count": 16,
     "metadata": {},
     "output_type": "execute_result"
    }
   ],
   "source": [
    "draws = val_data['Draw Data (L)'].iloc[index: index + window_size]\n",
    "draws[0]"
   ]
  },
  {
   "cell_type": "code",
   "execution_count": null,
   "id": "8725f4f9",
   "metadata": {},
   "outputs": [],
   "source": []
  },
  {
   "cell_type": "markdown",
   "id": "9883f688",
   "metadata": {},
   "source": [
    "Experiments\n",
    "1) Perfect foresight of future hourly average water use patterns (accurate in daily shape but not granular)\n",
    "    36, 54, and 72 gal/day draw profilesout\n",
    "    Simulation based test 28.8 to 72 gal/day\n",
    "\n",
    "2) CasADi python optimization package, IPOPT solver\n",
    "\n",
    "3) Use cvxpy for OLS, etc."
   ]
  }
 ],
 "metadata": {
  "kernelspec": {
   "display_name": "ochreEnv",
   "language": "python",
   "name": "python3"
  },
  "language_info": {
   "codemirror_mode": {
    "name": "ipython",
    "version": 3
   },
   "file_extension": ".py",
   "mimetype": "text/x-python",
   "name": "python",
   "nbconvert_exporter": "python",
   "pygments_lexer": "ipython3",
   "version": "3.11.11"
  }
 },
 "nbformat": 4,
 "nbformat_minor": 5
}
